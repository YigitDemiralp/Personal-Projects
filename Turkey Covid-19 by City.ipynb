{
 "cells": [
  {
   "cell_type": "code",
   "execution_count": 11,
   "metadata": {},
   "outputs": [
    {
     "data": {
      "text/html": [
       "        <script type=\"text/javascript\">\n",
       "        window.PlotlyConfig = {MathJaxConfig: 'local'};\n",
       "        if (window.MathJax) {MathJax.Hub.Config({SVG: {font: \"STIX-Web\"}});}\n",
       "        if (typeof require !== 'undefined') {\n",
       "        require.undef(\"plotly\");\n",
       "        requirejs.config({\n",
       "            paths: {\n",
       "                'plotly': ['https://cdn.plot.ly/plotly-latest.min']\n",
       "            }\n",
       "        });\n",
       "        require(['plotly'], function(Plotly) {\n",
       "            window._Plotly = Plotly;\n",
       "        });\n",
       "        }\n",
       "        </script>\n",
       "        "
      ]
     },
     "metadata": {},
     "output_type": "display_data"
    },
    {
     "data": {
      "application/vnd.plotly.v1+json": {
       "config": {
        "plotlyServerURL": "https://plot.ly"
       },
       "data": [
        {
         "coloraxis": "coloraxis",
         "featureidkey": "properties.name",
         "geojson": "https://raw.githubusercontent.com/codeforamerica/click_that_hood/master/public/data/turkey.geojson",
         "hovertemplate": "Date=1/4/20<br>City=%{location}<br>Cases=%{z}<extra></extra>",
         "ids": [
          "Adana",
          "Adıyaman",
          "Afyon",
          "Aksaray",
          "Amasya",
          "Ankara",
          "Antalya",
          "Ardahan",
          "Artvin",
          "Aydın",
          "Ağrı",
          "Balıkesir",
          "Bartın",
          "Batman",
          "Bayburt",
          "Bilecik",
          "Bingöl",
          "Bitlis",
          "Bolu",
          "Burdur",
          "Bursa",
          "Denizli",
          "Diyarbakır",
          "Düzce",
          "Edirne",
          "Elazığ",
          "Erzincan",
          "Erzurum",
          "Eskişehir",
          "Gaziantep",
          "Giresun",
          "Gümüşhane",
          "Hakkari",
          "Hatay",
          "Isparta",
          "Iğdır",
          "K. Maraş",
          "Karabük",
          "Karaman",
          "Kars",
          "Kastamonu",
          "Kayseri",
          "Kilis",
          "Kocaeli",
          "Konya",
          "Kütahya",
          "Kırklareli",
          "Kırıkkale",
          "Kırşehir",
          "Malatya",
          "Manisa",
          "Mardin",
          "Mersin",
          "Muğla",
          "Muş",
          "Nevşehir",
          "Niğde",
          "Ordu",
          "Osmaniye",
          "Rize",
          "Sakarya",
          "Samsun",
          "Siirt",
          "Sinop",
          "Sivas",
          "Tekirdağ",
          "Tokat",
          "Trabzon",
          "Tunceli",
          "Uşak",
          "Van",
          "Yalova",
          "Yozgat",
          "Zonguldak",
          "Çanakkale",
          "Çankırı",
          "Çorum",
          "İstanbul",
          "İzmir",
          "Şanlıurfa",
          "Şırnak"
         ],
         "locations": [
          "Adana",
          "Adıyaman",
          "Afyon",
          "Aksaray",
          "Amasya",
          "Ankara",
          "Antalya",
          "Ardahan",
          "Artvin",
          "Aydın",
          "Ağrı",
          "Balıkesir",
          "Bartın",
          "Batman",
          "Bayburt",
          "Bilecik",
          "Bingöl",
          "Bitlis",
          "Bolu",
          "Burdur",
          "Bursa",
          "Denizli",
          "Diyarbakır",
          "Düzce",
          "Edirne",
          "Elazığ",
          "Erzincan",
          "Erzurum",
          "Eskişehir",
          "Gaziantep",
          "Giresun",
          "Gümüşhane",
          "Hakkari",
          "Hatay",
          "Isparta",
          "Iğdır",
          "K. Maraş",
          "Karabük",
          "Karaman",
          "Kars",
          "Kastamonu",
          "Kayseri",
          "Kilis",
          "Kocaeli",
          "Konya",
          "Kütahya",
          "Kırklareli",
          "Kırıkkale",
          "Kırşehir",
          "Malatya",
          "Manisa",
          "Mardin",
          "Mersin",
          "Muğla",
          "Muş",
          "Nevşehir",
          "Niğde",
          "Ordu",
          "Osmaniye",
          "Rize",
          "Sakarya",
          "Samsun",
          "Siirt",
          "Sinop",
          "Sivas",
          "Tekirdağ",
          "Tokat",
          "Trabzon",
          "Tunceli",
          "Uşak",
          "Van",
          "Yalova",
          "Yozgat",
          "Zonguldak",
          "Çanakkale",
          "Çankırı",
          "Çorum",
          "İstanbul",
          "İzmir",
          "Şanlıurfa",
          "Şırnak"
         ],
         "name": "",
         "subplot": "mapbox",
         "type": "choroplethmapbox",
         "z": [
          197,
          26,
          11,
          4,
          24,
          712,
          95,
          5,
          15,
          12,
          29,
          87,
          8,
          7,
          18,
          5,
          8,
          22,
          6,
          2,
          135,
          81,
          26,
          21,
          89,
          9,
          17,
          86,
          83,
          37,
          61,
          12,
          2,
          22,
          268,
          25,
          15,
          10,
          12,
          25,
          13,
          109,
          16,
          410,
          584,
          5,
          35,
          22,
          4,
          49,
          65,
          34,
          9,
          43,
          11,
          18,
          3,
          73,
          31,
          88,
          207,
          112,
          32,
          31,
          67,
          101,
          80,
          74,
          6,
          38,
          26,
          46,
          13,
          112,
          24,
          13,
          29,
          8852,
          853,
          11,
          3
         ]
        }
       ],
       "frames": [
        {
         "data": [
          {
           "coloraxis": "coloraxis",
           "featureidkey": "properties.name",
           "geojson": "https://raw.githubusercontent.com/codeforamerica/click_that_hood/master/public/data/turkey.geojson",
           "hovertemplate": "Date=1/4/20<br>City=%{location}<br>Cases=%{z}<extra></extra>",
           "ids": [
            "Adana",
            "Adıyaman",
            "Afyon",
            "Aksaray",
            "Amasya",
            "Ankara",
            "Antalya",
            "Ardahan",
            "Artvin",
            "Aydın",
            "Ağrı",
            "Balıkesir",
            "Bartın",
            "Batman",
            "Bayburt",
            "Bilecik",
            "Bingöl",
            "Bitlis",
            "Bolu",
            "Burdur",
            "Bursa",
            "Denizli",
            "Diyarbakır",
            "Düzce",
            "Edirne",
            "Elazığ",
            "Erzincan",
            "Erzurum",
            "Eskişehir",
            "Gaziantep",
            "Giresun",
            "Gümüşhane",
            "Hakkari",
            "Hatay",
            "Isparta",
            "Iğdır",
            "K. Maraş",
            "Karabük",
            "Karaman",
            "Kars",
            "Kastamonu",
            "Kayseri",
            "Kilis",
            "Kocaeli",
            "Konya",
            "Kütahya",
            "Kırklareli",
            "Kırıkkale",
            "Kırşehir",
            "Malatya",
            "Manisa",
            "Mardin",
            "Mersin",
            "Muğla",
            "Muş",
            "Nevşehir",
            "Niğde",
            "Ordu",
            "Osmaniye",
            "Rize",
            "Sakarya",
            "Samsun",
            "Siirt",
            "Sinop",
            "Sivas",
            "Tekirdağ",
            "Tokat",
            "Trabzon",
            "Tunceli",
            "Uşak",
            "Van",
            "Yalova",
            "Yozgat",
            "Zonguldak",
            "Çanakkale",
            "Çankırı",
            "Çorum",
            "İstanbul",
            "İzmir",
            "Şanlıurfa",
            "Şırnak"
           ],
           "locations": [
            "Adana",
            "Adıyaman",
            "Afyon",
            "Aksaray",
            "Amasya",
            "Ankara",
            "Antalya",
            "Ardahan",
            "Artvin",
            "Aydın",
            "Ağrı",
            "Balıkesir",
            "Bartın",
            "Batman",
            "Bayburt",
            "Bilecik",
            "Bingöl",
            "Bitlis",
            "Bolu",
            "Burdur",
            "Bursa",
            "Denizli",
            "Diyarbakır",
            "Düzce",
            "Edirne",
            "Elazığ",
            "Erzincan",
            "Erzurum",
            "Eskişehir",
            "Gaziantep",
            "Giresun",
            "Gümüşhane",
            "Hakkari",
            "Hatay",
            "Isparta",
            "Iğdır",
            "K. Maraş",
            "Karabük",
            "Karaman",
            "Kars",
            "Kastamonu",
            "Kayseri",
            "Kilis",
            "Kocaeli",
            "Konya",
            "Kütahya",
            "Kırklareli",
            "Kırıkkale",
            "Kırşehir",
            "Malatya",
            "Manisa",
            "Mardin",
            "Mersin",
            "Muğla",
            "Muş",
            "Nevşehir",
            "Niğde",
            "Ordu",
            "Osmaniye",
            "Rize",
            "Sakarya",
            "Samsun",
            "Siirt",
            "Sinop",
            "Sivas",
            "Tekirdağ",
            "Tokat",
            "Trabzon",
            "Tunceli",
            "Uşak",
            "Van",
            "Yalova",
            "Yozgat",
            "Zonguldak",
            "Çanakkale",
            "Çankırı",
            "Çorum",
            "İstanbul",
            "İzmir",
            "Şanlıurfa",
            "Şırnak"
           ],
           "name": "",
           "subplot": "mapbox",
           "type": "choroplethmapbox",
           "z": [
            197,
            26,
            11,
            4,
            24,
            712,
            95,
            5,
            15,
            12,
            29,
            87,
            8,
            7,
            18,
            5,
            8,
            22,
            6,
            2,
            135,
            81,
            26,
            21,
            89,
            9,
            17,
            86,
            83,
            37,
            61,
            12,
            2,
            22,
            268,
            25,
            15,
            10,
            12,
            25,
            13,
            109,
            16,
            410,
            584,
            5,
            35,
            22,
            4,
            49,
            65,
            34,
            9,
            43,
            11,
            18,
            3,
            73,
            31,
            88,
            207,
            112,
            32,
            31,
            67,
            101,
            80,
            74,
            6,
            38,
            26,
            46,
            13,
            112,
            24,
            13,
            29,
            8852,
            853,
            11,
            3
           ]
          }
         ],
         "name": "1/4/20"
        },
        {
         "data": [
          {
           "coloraxis": "coloraxis",
           "featureidkey": "properties.name",
           "geojson": "https://raw.githubusercontent.com/codeforamerica/click_that_hood/master/public/data/turkey.geojson",
           "hovertemplate": "Date=3/4/20<br>City=%{location}<br>Cases=%{z}<extra></extra>",
           "ids": [
            "Adana",
            "Adıyaman",
            "Afyon",
            "Aksaray",
            "Amasya",
            "Ankara",
            "Antalya",
            "Ardahan",
            "Artvin",
            "Aydın",
            "Ağrı",
            "Balıkesir",
            "Bartın",
            "Batman",
            "Bayburt",
            "Bilecik",
            "Bingöl",
            "Bitlis",
            "Bolu",
            "Burdur",
            "Bursa",
            "Denizli",
            "Diyarbakır",
            "Düzce",
            "Edirne",
            "Elazığ",
            "Erzincan",
            "Erzurum",
            "Eskişehir",
            "Gaziantep",
            "Giresun",
            "Gümüşhane",
            "Hakkari",
            "Hatay",
            "Isparta",
            "Iğdır",
            "K. Maraş",
            "Karabük",
            "Karaman",
            "Kars",
            "Kastamonu",
            "Kayseri",
            "Kilis",
            "Kocaeli",
            "Konya",
            "Kütahya",
            "Kırklareli",
            "Kırıkkale",
            "Kırşehir",
            "Malatya",
            "Manisa",
            "Mardin",
            "Mersin",
            "Muğla",
            "Muş",
            "Nevşehir",
            "Niğde",
            "Ordu",
            "Osmaniye",
            "Rize",
            "Sakarya",
            "Samsun",
            "Siirt",
            "Sinop",
            "Sivas",
            "Tekirdağ",
            "Tokat",
            "Trabzon",
            "Tunceli",
            "Uşak",
            "Van",
            "Yalova",
            "Yozgat",
            "Zonguldak",
            "Çanakkale",
            "Çankırı",
            "Çorum",
            "İstanbul",
            "İzmir",
            "Şanlıurfa",
            "Şırnak"
           ],
           "locations": [
            "Adana",
            "Adıyaman",
            "Afyon",
            "Aksaray",
            "Amasya",
            "Ankara",
            "Antalya",
            "Ardahan",
            "Artvin",
            "Aydın",
            "Ağrı",
            "Balıkesir",
            "Bartın",
            "Batman",
            "Bayburt",
            "Bilecik",
            "Bingöl",
            "Bitlis",
            "Bolu",
            "Burdur",
            "Bursa",
            "Denizli",
            "Diyarbakır",
            "Düzce",
            "Edirne",
            "Elazığ",
            "Erzincan",
            "Erzurum",
            "Eskişehir",
            "Gaziantep",
            "Giresun",
            "Gümüşhane",
            "Hakkari",
            "Hatay",
            "Isparta",
            "Iğdır",
            "K. Maraş",
            "Karabük",
            "Karaman",
            "Kars",
            "Kastamonu",
            "Kayseri",
            "Kilis",
            "Kocaeli",
            "Konya",
            "Kütahya",
            "Kırklareli",
            "Kırıkkale",
            "Kırşehir",
            "Malatya",
            "Manisa",
            "Mardin",
            "Mersin",
            "Muğla",
            "Muş",
            "Nevşehir",
            "Niğde",
            "Ordu",
            "Osmaniye",
            "Rize",
            "Sakarya",
            "Samsun",
            "Siirt",
            "Sinop",
            "Sivas",
            "Tekirdağ",
            "Tokat",
            "Trabzon",
            "Tunceli",
            "Uşak",
            "Van",
            "Yalova",
            "Yozgat",
            "Zonguldak",
            "Çanakkale",
            "Çankırı",
            "Çorum",
            "İstanbul",
            "İzmir",
            "Şanlıurfa",
            "Şırnak"
           ],
           "name": "",
           "subplot": "mapbox",
           "type": "choroplethmapbox",
           "z": [
            241,
            32,
            18,
            5,
            38,
            860,
            102,
            5,
            20,
            20,
            31,
            106,
            9,
            9,
            23,
            16,
            10,
            22,
            19,
            3,
            259,
            86,
            46,
            32,
            91,
            12,
            15,
            79,
            118,
            49,
            73,
            12,
            2,
            32,
            289,
            26,
            28,
            20,
            14,
            18,
            26,
            130,
            17,
            500,
            601,
            5,
            49,
            23,
            7,
            66,
            100,
            51,
            17,
            46,
            14,
            27,
            12,
            88,
            47,
            101,
            337,
            167,
            44,
            35,
            80,
            121,
            90,
            87,
            6,
            40,
            24,
            64,
            15,
            197,
            30,
            25,
            35,
            12231,
            1105,
            18,
            9
           ]
          }
         ],
         "name": "3/4/20"
        }
       ],
       "layout": {
        "coloraxis": {
         "colorbar": {
          "title": {
           "text": "Cases"
          }
         },
         "colorscale": [
          [
           0,
           "#0d0887"
          ],
          [
           0.1111111111111111,
           "#46039f"
          ],
          [
           0.2222222222222222,
           "#7201a8"
          ],
          [
           0.3333333333333333,
           "#9c179e"
          ],
          [
           0.4444444444444444,
           "#bd3786"
          ],
          [
           0.5555555555555556,
           "#d8576b"
          ],
          [
           0.6666666666666666,
           "#ed7953"
          ],
          [
           0.7777777777777778,
           "#fb9f3a"
          ],
          [
           0.8888888888888888,
           "#fdca26"
          ],
          [
           1,
           "#f0f921"
          ]
         ]
        },
        "legend": {
         "tracegroupgap": 0
        },
        "mapbox": {
         "center": {
          "lat": 39,
          "lon": 34.7073
         },
         "domain": {
          "x": [
           0,
           1
          ],
          "y": [
           0,
           1
          ]
         },
         "style": "carto-positron",
         "zoom": 4.9
        },
        "margin": {
         "b": 0,
         "l": 0,
         "r": 0,
         "t": 0
        },
        "sliders": [
         {
          "active": 0,
          "currentvalue": {
           "prefix": "Date="
          },
          "len": 0.9,
          "pad": {
           "b": 10,
           "t": 60
          },
          "steps": [
           {
            "args": [
             [
              "1/4/20"
             ],
             {
              "frame": {
               "duration": 0,
               "redraw": true
              },
              "fromcurrent": true,
              "mode": "immediate",
              "transition": {
               "duration": 0,
               "easing": "linear"
              }
             }
            ],
            "label": "1/4/20",
            "method": "animate"
           },
           {
            "args": [
             [
              "3/4/20"
             ],
             {
              "frame": {
               "duration": 0,
               "redraw": true
              },
              "fromcurrent": true,
              "mode": "immediate",
              "transition": {
               "duration": 0,
               "easing": "linear"
              }
             }
            ],
            "label": "3/4/20",
            "method": "animate"
           }
          ],
          "x": 0.1,
          "xanchor": "left",
          "y": 0,
          "yanchor": "top"
         }
        ],
        "template": {
         "data": {
          "bar": [
           {
            "error_x": {
             "color": "#2a3f5f"
            },
            "error_y": {
             "color": "#2a3f5f"
            },
            "marker": {
             "line": {
              "color": "#E5ECF6",
              "width": 0.5
             }
            },
            "type": "bar"
           }
          ],
          "barpolar": [
           {
            "marker": {
             "line": {
              "color": "#E5ECF6",
              "width": 0.5
             }
            },
            "type": "barpolar"
           }
          ],
          "carpet": [
           {
            "aaxis": {
             "endlinecolor": "#2a3f5f",
             "gridcolor": "white",
             "linecolor": "white",
             "minorgridcolor": "white",
             "startlinecolor": "#2a3f5f"
            },
            "baxis": {
             "endlinecolor": "#2a3f5f",
             "gridcolor": "white",
             "linecolor": "white",
             "minorgridcolor": "white",
             "startlinecolor": "#2a3f5f"
            },
            "type": "carpet"
           }
          ],
          "choropleth": [
           {
            "colorbar": {
             "outlinewidth": 0,
             "ticks": ""
            },
            "type": "choropleth"
           }
          ],
          "contour": [
           {
            "colorbar": {
             "outlinewidth": 0,
             "ticks": ""
            },
            "colorscale": [
             [
              0,
              "#0d0887"
             ],
             [
              0.1111111111111111,
              "#46039f"
             ],
             [
              0.2222222222222222,
              "#7201a8"
             ],
             [
              0.3333333333333333,
              "#9c179e"
             ],
             [
              0.4444444444444444,
              "#bd3786"
             ],
             [
              0.5555555555555556,
              "#d8576b"
             ],
             [
              0.6666666666666666,
              "#ed7953"
             ],
             [
              0.7777777777777778,
              "#fb9f3a"
             ],
             [
              0.8888888888888888,
              "#fdca26"
             ],
             [
              1,
              "#f0f921"
             ]
            ],
            "type": "contour"
           }
          ],
          "contourcarpet": [
           {
            "colorbar": {
             "outlinewidth": 0,
             "ticks": ""
            },
            "type": "contourcarpet"
           }
          ],
          "heatmap": [
           {
            "colorbar": {
             "outlinewidth": 0,
             "ticks": ""
            },
            "colorscale": [
             [
              0,
              "#0d0887"
             ],
             [
              0.1111111111111111,
              "#46039f"
             ],
             [
              0.2222222222222222,
              "#7201a8"
             ],
             [
              0.3333333333333333,
              "#9c179e"
             ],
             [
              0.4444444444444444,
              "#bd3786"
             ],
             [
              0.5555555555555556,
              "#d8576b"
             ],
             [
              0.6666666666666666,
              "#ed7953"
             ],
             [
              0.7777777777777778,
              "#fb9f3a"
             ],
             [
              0.8888888888888888,
              "#fdca26"
             ],
             [
              1,
              "#f0f921"
             ]
            ],
            "type": "heatmap"
           }
          ],
          "heatmapgl": [
           {
            "colorbar": {
             "outlinewidth": 0,
             "ticks": ""
            },
            "colorscale": [
             [
              0,
              "#0d0887"
             ],
             [
              0.1111111111111111,
              "#46039f"
             ],
             [
              0.2222222222222222,
              "#7201a8"
             ],
             [
              0.3333333333333333,
              "#9c179e"
             ],
             [
              0.4444444444444444,
              "#bd3786"
             ],
             [
              0.5555555555555556,
              "#d8576b"
             ],
             [
              0.6666666666666666,
              "#ed7953"
             ],
             [
              0.7777777777777778,
              "#fb9f3a"
             ],
             [
              0.8888888888888888,
              "#fdca26"
             ],
             [
              1,
              "#f0f921"
             ]
            ],
            "type": "heatmapgl"
           }
          ],
          "histogram": [
           {
            "marker": {
             "colorbar": {
              "outlinewidth": 0,
              "ticks": ""
             }
            },
            "type": "histogram"
           }
          ],
          "histogram2d": [
           {
            "colorbar": {
             "outlinewidth": 0,
             "ticks": ""
            },
            "colorscale": [
             [
              0,
              "#0d0887"
             ],
             [
              0.1111111111111111,
              "#46039f"
             ],
             [
              0.2222222222222222,
              "#7201a8"
             ],
             [
              0.3333333333333333,
              "#9c179e"
             ],
             [
              0.4444444444444444,
              "#bd3786"
             ],
             [
              0.5555555555555556,
              "#d8576b"
             ],
             [
              0.6666666666666666,
              "#ed7953"
             ],
             [
              0.7777777777777778,
              "#fb9f3a"
             ],
             [
              0.8888888888888888,
              "#fdca26"
             ],
             [
              1,
              "#f0f921"
             ]
            ],
            "type": "histogram2d"
           }
          ],
          "histogram2dcontour": [
           {
            "colorbar": {
             "outlinewidth": 0,
             "ticks": ""
            },
            "colorscale": [
             [
              0,
              "#0d0887"
             ],
             [
              0.1111111111111111,
              "#46039f"
             ],
             [
              0.2222222222222222,
              "#7201a8"
             ],
             [
              0.3333333333333333,
              "#9c179e"
             ],
             [
              0.4444444444444444,
              "#bd3786"
             ],
             [
              0.5555555555555556,
              "#d8576b"
             ],
             [
              0.6666666666666666,
              "#ed7953"
             ],
             [
              0.7777777777777778,
              "#fb9f3a"
             ],
             [
              0.8888888888888888,
              "#fdca26"
             ],
             [
              1,
              "#f0f921"
             ]
            ],
            "type": "histogram2dcontour"
           }
          ],
          "mesh3d": [
           {
            "colorbar": {
             "outlinewidth": 0,
             "ticks": ""
            },
            "type": "mesh3d"
           }
          ],
          "parcoords": [
           {
            "line": {
             "colorbar": {
              "outlinewidth": 0,
              "ticks": ""
             }
            },
            "type": "parcoords"
           }
          ],
          "pie": [
           {
            "automargin": true,
            "type": "pie"
           }
          ],
          "scatter": [
           {
            "marker": {
             "colorbar": {
              "outlinewidth": 0,
              "ticks": ""
             }
            },
            "type": "scatter"
           }
          ],
          "scatter3d": [
           {
            "line": {
             "colorbar": {
              "outlinewidth": 0,
              "ticks": ""
             }
            },
            "marker": {
             "colorbar": {
              "outlinewidth": 0,
              "ticks": ""
             }
            },
            "type": "scatter3d"
           }
          ],
          "scattercarpet": [
           {
            "marker": {
             "colorbar": {
              "outlinewidth": 0,
              "ticks": ""
             }
            },
            "type": "scattercarpet"
           }
          ],
          "scattergeo": [
           {
            "marker": {
             "colorbar": {
              "outlinewidth": 0,
              "ticks": ""
             }
            },
            "type": "scattergeo"
           }
          ],
          "scattergl": [
           {
            "marker": {
             "colorbar": {
              "outlinewidth": 0,
              "ticks": ""
             }
            },
            "type": "scattergl"
           }
          ],
          "scattermapbox": [
           {
            "marker": {
             "colorbar": {
              "outlinewidth": 0,
              "ticks": ""
             }
            },
            "type": "scattermapbox"
           }
          ],
          "scatterpolar": [
           {
            "marker": {
             "colorbar": {
              "outlinewidth": 0,
              "ticks": ""
             }
            },
            "type": "scatterpolar"
           }
          ],
          "scatterpolargl": [
           {
            "marker": {
             "colorbar": {
              "outlinewidth": 0,
              "ticks": ""
             }
            },
            "type": "scatterpolargl"
           }
          ],
          "scatterternary": [
           {
            "marker": {
             "colorbar": {
              "outlinewidth": 0,
              "ticks": ""
             }
            },
            "type": "scatterternary"
           }
          ],
          "surface": [
           {
            "colorbar": {
             "outlinewidth": 0,
             "ticks": ""
            },
            "colorscale": [
             [
              0,
              "#0d0887"
             ],
             [
              0.1111111111111111,
              "#46039f"
             ],
             [
              0.2222222222222222,
              "#7201a8"
             ],
             [
              0.3333333333333333,
              "#9c179e"
             ],
             [
              0.4444444444444444,
              "#bd3786"
             ],
             [
              0.5555555555555556,
              "#d8576b"
             ],
             [
              0.6666666666666666,
              "#ed7953"
             ],
             [
              0.7777777777777778,
              "#fb9f3a"
             ],
             [
              0.8888888888888888,
              "#fdca26"
             ],
             [
              1,
              "#f0f921"
             ]
            ],
            "type": "surface"
           }
          ],
          "table": [
           {
            "cells": {
             "fill": {
              "color": "#EBF0F8"
             },
             "line": {
              "color": "white"
             }
            },
            "header": {
             "fill": {
              "color": "#C8D4E3"
             },
             "line": {
              "color": "white"
             }
            },
            "type": "table"
           }
          ]
         },
         "layout": {
          "annotationdefaults": {
           "arrowcolor": "#2a3f5f",
           "arrowhead": 0,
           "arrowwidth": 1
          },
          "coloraxis": {
           "colorbar": {
            "outlinewidth": 0,
            "ticks": ""
           }
          },
          "colorscale": {
           "diverging": [
            [
             0,
             "#8e0152"
            ],
            [
             0.1,
             "#c51b7d"
            ],
            [
             0.2,
             "#de77ae"
            ],
            [
             0.3,
             "#f1b6da"
            ],
            [
             0.4,
             "#fde0ef"
            ],
            [
             0.5,
             "#f7f7f7"
            ],
            [
             0.6,
             "#e6f5d0"
            ],
            [
             0.7,
             "#b8e186"
            ],
            [
             0.8,
             "#7fbc41"
            ],
            [
             0.9,
             "#4d9221"
            ],
            [
             1,
             "#276419"
            ]
           ],
           "sequential": [
            [
             0,
             "#0d0887"
            ],
            [
             0.1111111111111111,
             "#46039f"
            ],
            [
             0.2222222222222222,
             "#7201a8"
            ],
            [
             0.3333333333333333,
             "#9c179e"
            ],
            [
             0.4444444444444444,
             "#bd3786"
            ],
            [
             0.5555555555555556,
             "#d8576b"
            ],
            [
             0.6666666666666666,
             "#ed7953"
            ],
            [
             0.7777777777777778,
             "#fb9f3a"
            ],
            [
             0.8888888888888888,
             "#fdca26"
            ],
            [
             1,
             "#f0f921"
            ]
           ],
           "sequentialminus": [
            [
             0,
             "#0d0887"
            ],
            [
             0.1111111111111111,
             "#46039f"
            ],
            [
             0.2222222222222222,
             "#7201a8"
            ],
            [
             0.3333333333333333,
             "#9c179e"
            ],
            [
             0.4444444444444444,
             "#bd3786"
            ],
            [
             0.5555555555555556,
             "#d8576b"
            ],
            [
             0.6666666666666666,
             "#ed7953"
            ],
            [
             0.7777777777777778,
             "#fb9f3a"
            ],
            [
             0.8888888888888888,
             "#fdca26"
            ],
            [
             1,
             "#f0f921"
            ]
           ]
          },
          "colorway": [
           "#636efa",
           "#EF553B",
           "#00cc96",
           "#ab63fa",
           "#FFA15A",
           "#19d3f3",
           "#FF6692",
           "#B6E880",
           "#FF97FF",
           "#FECB52"
          ],
          "font": {
           "color": "#2a3f5f"
          },
          "geo": {
           "bgcolor": "white",
           "lakecolor": "white",
           "landcolor": "#E5ECF6",
           "showlakes": true,
           "showland": true,
           "subunitcolor": "white"
          },
          "hoverlabel": {
           "align": "left"
          },
          "hovermode": "closest",
          "mapbox": {
           "style": "light"
          },
          "paper_bgcolor": "white",
          "plot_bgcolor": "#E5ECF6",
          "polar": {
           "angularaxis": {
            "gridcolor": "white",
            "linecolor": "white",
            "ticks": ""
           },
           "bgcolor": "#E5ECF6",
           "radialaxis": {
            "gridcolor": "white",
            "linecolor": "white",
            "ticks": ""
           }
          },
          "scene": {
           "xaxis": {
            "backgroundcolor": "#E5ECF6",
            "gridcolor": "white",
            "gridwidth": 2,
            "linecolor": "white",
            "showbackground": true,
            "ticks": "",
            "zerolinecolor": "white"
           },
           "yaxis": {
            "backgroundcolor": "#E5ECF6",
            "gridcolor": "white",
            "gridwidth": 2,
            "linecolor": "white",
            "showbackground": true,
            "ticks": "",
            "zerolinecolor": "white"
           },
           "zaxis": {
            "backgroundcolor": "#E5ECF6",
            "gridcolor": "white",
            "gridwidth": 2,
            "linecolor": "white",
            "showbackground": true,
            "ticks": "",
            "zerolinecolor": "white"
           }
          },
          "shapedefaults": {
           "line": {
            "color": "#2a3f5f"
           }
          },
          "ternary": {
           "aaxis": {
            "gridcolor": "white",
            "linecolor": "white",
            "ticks": ""
           },
           "baxis": {
            "gridcolor": "white",
            "linecolor": "white",
            "ticks": ""
           },
           "bgcolor": "#E5ECF6",
           "caxis": {
            "gridcolor": "white",
            "linecolor": "white",
            "ticks": ""
           }
          },
          "title": {
           "x": 0.05
          },
          "xaxis": {
           "automargin": true,
           "gridcolor": "white",
           "linecolor": "white",
           "ticks": "",
           "title": {
            "standoff": 15
           },
           "zerolinecolor": "white",
           "zerolinewidth": 2
          },
          "yaxis": {
           "automargin": true,
           "gridcolor": "white",
           "linecolor": "white",
           "ticks": "",
           "title": {
            "standoff": 15
           },
           "zerolinecolor": "white",
           "zerolinewidth": 2
          }
         }
        },
        "updatemenus": [
         {
          "buttons": [
           {
            "args": [
             null,
             {
              "frame": {
               "duration": 500,
               "redraw": true
              },
              "fromcurrent": true,
              "mode": "immediate",
              "transition": {
               "duration": 500,
               "easing": "linear"
              }
             }
            ],
            "label": "&#9654;",
            "method": "animate"
           },
           {
            "args": [
             [
              null
             ],
             {
              "frame": {
               "duration": 0,
               "redraw": true
              },
              "fromcurrent": true,
              "mode": "immediate",
              "transition": {
               "duration": 0,
               "easing": "linear"
              }
             }
            ],
            "label": "&#9724;",
            "method": "animate"
           }
          ],
          "direction": "left",
          "pad": {
           "r": 10,
           "t": 70
          },
          "showactive": false,
          "type": "buttons",
          "x": 0.1,
          "xanchor": "right",
          "y": 0,
          "yanchor": "top"
         }
        ]
       }
      },
      "text/html": [
       "<div>\n",
       "        \n",
       "        \n",
       "            <div id=\"a2b655c7-ebe9-4f4a-bf47-16870e924434\" class=\"plotly-graph-div\" style=\"height:525px; width:100%;\"></div>\n",
       "            <script type=\"text/javascript\">\n",
       "                require([\"plotly\"], function(Plotly) {\n",
       "                    window.PLOTLYENV=window.PLOTLYENV || {};\n",
       "                    \n",
       "                if (document.getElementById(\"a2b655c7-ebe9-4f4a-bf47-16870e924434\")) {\n",
       "                    Plotly.newPlot(\n",
       "                        'a2b655c7-ebe9-4f4a-bf47-16870e924434',\n",
       "                        [{\"coloraxis\": \"coloraxis\", \"featureidkey\": \"properties.name\", \"geojson\": \"https://raw.githubusercontent.com/codeforamerica/click_that_hood/master/public/data/turkey.geojson\", \"hovertemplate\": \"Date=1/4/20<br>City=%{location}<br>Cases=%{z}<extra></extra>\", \"ids\": [\"Adana\", \"Ad\\u0131yaman\", \"Afyon\", \"Aksaray\", \"Amasya\", \"Ankara\", \"Antalya\", \"Ardahan\", \"Artvin\", \"Ayd\\u0131n\", \"A\\u011fr\\u0131\", \"Bal\\u0131kesir\", \"Bart\\u0131n\", \"Batman\", \"Bayburt\", \"Bilecik\", \"Bing\\u00f6l\", \"Bitlis\", \"Bolu\", \"Burdur\", \"Bursa\", \"Denizli\", \"Diyarbak\\u0131r\", \"D\\u00fczce\", \"Edirne\", \"Elaz\\u0131\\u011f\", \"Erzincan\", \"Erzurum\", \"Eski\\u015fehir\", \"Gaziantep\", \"Giresun\", \"G\\u00fcm\\u00fc\\u015fhane\", \"Hakkari\", \"Hatay\", \"Isparta\", \"I\\u011fd\\u0131r\", \"K. Mara\\u015f\", \"Karab\\u00fck\", \"Karaman\", \"Kars\", \"Kastamonu\", \"Kayseri\", \"Kilis\", \"Kocaeli\", \"Konya\", \"K\\u00fctahya\", \"K\\u0131rklareli\", \"K\\u0131r\\u0131kkale\", \"K\\u0131r\\u015fehir\", \"Malatya\", \"Manisa\", \"Mardin\", \"Mersin\", \"Mu\\u011fla\", \"Mu\\u015f\", \"Nev\\u015fehir\", \"Ni\\u011fde\", \"Ordu\", \"Osmaniye\", \"Rize\", \"Sakarya\", \"Samsun\", \"Siirt\", \"Sinop\", \"Sivas\", \"Tekirda\\u011f\", \"Tokat\", \"Trabzon\", \"Tunceli\", \"U\\u015fak\", \"Van\", \"Yalova\", \"Yozgat\", \"Zonguldak\", \"\\u00c7anakkale\", \"\\u00c7ank\\u0131r\\u0131\", \"\\u00c7orum\", \"\\u0130stanbul\", \"\\u0130zmir\", \"\\u015eanl\\u0131urfa\", \"\\u015e\\u0131rnak\"], \"locations\": [\"Adana\", \"Ad\\u0131yaman\", \"Afyon\", \"Aksaray\", \"Amasya\", \"Ankara\", \"Antalya\", \"Ardahan\", \"Artvin\", \"Ayd\\u0131n\", \"A\\u011fr\\u0131\", \"Bal\\u0131kesir\", \"Bart\\u0131n\", \"Batman\", \"Bayburt\", \"Bilecik\", \"Bing\\u00f6l\", \"Bitlis\", \"Bolu\", \"Burdur\", \"Bursa\", \"Denizli\", \"Diyarbak\\u0131r\", \"D\\u00fczce\", \"Edirne\", \"Elaz\\u0131\\u011f\", \"Erzincan\", \"Erzurum\", \"Eski\\u015fehir\", \"Gaziantep\", \"Giresun\", \"G\\u00fcm\\u00fc\\u015fhane\", \"Hakkari\", \"Hatay\", \"Isparta\", \"I\\u011fd\\u0131r\", \"K. Mara\\u015f\", \"Karab\\u00fck\", \"Karaman\", \"Kars\", \"Kastamonu\", \"Kayseri\", \"Kilis\", \"Kocaeli\", \"Konya\", \"K\\u00fctahya\", \"K\\u0131rklareli\", \"K\\u0131r\\u0131kkale\", \"K\\u0131r\\u015fehir\", \"Malatya\", \"Manisa\", \"Mardin\", \"Mersin\", \"Mu\\u011fla\", \"Mu\\u015f\", \"Nev\\u015fehir\", \"Ni\\u011fde\", \"Ordu\", \"Osmaniye\", \"Rize\", \"Sakarya\", \"Samsun\", \"Siirt\", \"Sinop\", \"Sivas\", \"Tekirda\\u011f\", \"Tokat\", \"Trabzon\", \"Tunceli\", \"U\\u015fak\", \"Van\", \"Yalova\", \"Yozgat\", \"Zonguldak\", \"\\u00c7anakkale\", \"\\u00c7ank\\u0131r\\u0131\", \"\\u00c7orum\", \"\\u0130stanbul\", \"\\u0130zmir\", \"\\u015eanl\\u0131urfa\", \"\\u015e\\u0131rnak\"], \"name\": \"\", \"subplot\": \"mapbox\", \"type\": \"choroplethmapbox\", \"z\": [197, 26, 11, 4, 24, 712, 95, 5, 15, 12, 29, 87, 8, 7, 18, 5, 8, 22, 6, 2, 135, 81, 26, 21, 89, 9, 17, 86, 83, 37, 61, 12, 2, 22, 268, 25, 15, 10, 12, 25, 13, 109, 16, 410, 584, 5, 35, 22, 4, 49, 65, 34, 9, 43, 11, 18, 3, 73, 31, 88, 207, 112, 32, 31, 67, 101, 80, 74, 6, 38, 26, 46, 13, 112, 24, 13, 29, 8852, 853, 11, 3]}],\n",
       "                        {\"coloraxis\": {\"colorbar\": {\"title\": {\"text\": \"Cases\"}}, \"colorscale\": [[0.0, \"#0d0887\"], [0.1111111111111111, \"#46039f\"], [0.2222222222222222, \"#7201a8\"], [0.3333333333333333, \"#9c179e\"], [0.4444444444444444, \"#bd3786\"], [0.5555555555555556, \"#d8576b\"], [0.6666666666666666, \"#ed7953\"], [0.7777777777777778, \"#fb9f3a\"], [0.8888888888888888, \"#fdca26\"], [1.0, \"#f0f921\"]]}, \"legend\": {\"tracegroupgap\": 0}, \"mapbox\": {\"center\": {\"lat\": 39, \"lon\": 34.7073}, \"domain\": {\"x\": [0.0, 1.0], \"y\": [0.0, 1.0]}, \"style\": \"carto-positron\", \"zoom\": 4.9}, \"margin\": {\"b\": 0, \"l\": 0, \"r\": 0, \"t\": 0}, \"sliders\": [{\"active\": 0, \"currentvalue\": {\"prefix\": \"Date=\"}, \"len\": 0.9, \"pad\": {\"b\": 10, \"t\": 60}, \"steps\": [{\"args\": [[\"1/4/20\"], {\"frame\": {\"duration\": 0, \"redraw\": true}, \"fromcurrent\": true, \"mode\": \"immediate\", \"transition\": {\"duration\": 0, \"easing\": \"linear\"}}], \"label\": \"1/4/20\", \"method\": \"animate\"}, {\"args\": [[\"3/4/20\"], {\"frame\": {\"duration\": 0, \"redraw\": true}, \"fromcurrent\": true, \"mode\": \"immediate\", \"transition\": {\"duration\": 0, \"easing\": \"linear\"}}], \"label\": \"3/4/20\", \"method\": \"animate\"}], \"x\": 0.1, \"xanchor\": \"left\", \"y\": 0, \"yanchor\": \"top\"}], \"template\": {\"data\": {\"bar\": [{\"error_x\": {\"color\": \"#2a3f5f\"}, \"error_y\": {\"color\": \"#2a3f5f\"}, \"marker\": {\"line\": {\"color\": \"#E5ECF6\", \"width\": 0.5}}, \"type\": \"bar\"}], \"barpolar\": [{\"marker\": {\"line\": {\"color\": \"#E5ECF6\", \"width\": 0.5}}, \"type\": \"barpolar\"}], \"carpet\": [{\"aaxis\": {\"endlinecolor\": \"#2a3f5f\", \"gridcolor\": \"white\", \"linecolor\": \"white\", \"minorgridcolor\": \"white\", \"startlinecolor\": \"#2a3f5f\"}, \"baxis\": {\"endlinecolor\": \"#2a3f5f\", \"gridcolor\": \"white\", \"linecolor\": \"white\", \"minorgridcolor\": \"white\", \"startlinecolor\": \"#2a3f5f\"}, \"type\": \"carpet\"}], \"choropleth\": [{\"colorbar\": {\"outlinewidth\": 0, \"ticks\": \"\"}, \"type\": \"choropleth\"}], \"contour\": [{\"colorbar\": {\"outlinewidth\": 0, \"ticks\": \"\"}, \"colorscale\": [[0.0, \"#0d0887\"], [0.1111111111111111, \"#46039f\"], [0.2222222222222222, \"#7201a8\"], [0.3333333333333333, \"#9c179e\"], [0.4444444444444444, \"#bd3786\"], [0.5555555555555556, \"#d8576b\"], [0.6666666666666666, \"#ed7953\"], [0.7777777777777778, \"#fb9f3a\"], [0.8888888888888888, \"#fdca26\"], [1.0, \"#f0f921\"]], \"type\": \"contour\"}], \"contourcarpet\": [{\"colorbar\": {\"outlinewidth\": 0, \"ticks\": \"\"}, \"type\": \"contourcarpet\"}], \"heatmap\": [{\"colorbar\": {\"outlinewidth\": 0, \"ticks\": \"\"}, \"colorscale\": [[0.0, \"#0d0887\"], [0.1111111111111111, \"#46039f\"], [0.2222222222222222, \"#7201a8\"], [0.3333333333333333, \"#9c179e\"], [0.4444444444444444, \"#bd3786\"], [0.5555555555555556, \"#d8576b\"], [0.6666666666666666, \"#ed7953\"], [0.7777777777777778, \"#fb9f3a\"], [0.8888888888888888, \"#fdca26\"], [1.0, \"#f0f921\"]], \"type\": \"heatmap\"}], \"heatmapgl\": [{\"colorbar\": {\"outlinewidth\": 0, \"ticks\": \"\"}, \"colorscale\": [[0.0, \"#0d0887\"], [0.1111111111111111, \"#46039f\"], [0.2222222222222222, \"#7201a8\"], [0.3333333333333333, \"#9c179e\"], [0.4444444444444444, \"#bd3786\"], [0.5555555555555556, \"#d8576b\"], [0.6666666666666666, \"#ed7953\"], [0.7777777777777778, \"#fb9f3a\"], [0.8888888888888888, \"#fdca26\"], [1.0, \"#f0f921\"]], \"type\": \"heatmapgl\"}], \"histogram\": [{\"marker\": {\"colorbar\": {\"outlinewidth\": 0, \"ticks\": \"\"}}, \"type\": \"histogram\"}], \"histogram2d\": [{\"colorbar\": {\"outlinewidth\": 0, \"ticks\": \"\"}, \"colorscale\": [[0.0, \"#0d0887\"], [0.1111111111111111, \"#46039f\"], [0.2222222222222222, \"#7201a8\"], [0.3333333333333333, \"#9c179e\"], [0.4444444444444444, \"#bd3786\"], [0.5555555555555556, \"#d8576b\"], [0.6666666666666666, \"#ed7953\"], [0.7777777777777778, \"#fb9f3a\"], [0.8888888888888888, \"#fdca26\"], [1.0, \"#f0f921\"]], \"type\": \"histogram2d\"}], \"histogram2dcontour\": [{\"colorbar\": {\"outlinewidth\": 0, \"ticks\": \"\"}, \"colorscale\": [[0.0, \"#0d0887\"], [0.1111111111111111, \"#46039f\"], [0.2222222222222222, \"#7201a8\"], [0.3333333333333333, \"#9c179e\"], [0.4444444444444444, \"#bd3786\"], [0.5555555555555556, \"#d8576b\"], [0.6666666666666666, \"#ed7953\"], [0.7777777777777778, \"#fb9f3a\"], [0.8888888888888888, \"#fdca26\"], [1.0, \"#f0f921\"]], \"type\": \"histogram2dcontour\"}], \"mesh3d\": [{\"colorbar\": {\"outlinewidth\": 0, \"ticks\": \"\"}, \"type\": \"mesh3d\"}], \"parcoords\": [{\"line\": {\"colorbar\": {\"outlinewidth\": 0, \"ticks\": \"\"}}, \"type\": \"parcoords\"}], \"pie\": [{\"automargin\": true, \"type\": \"pie\"}], \"scatter\": [{\"marker\": {\"colorbar\": {\"outlinewidth\": 0, \"ticks\": \"\"}}, \"type\": \"scatter\"}], \"scatter3d\": [{\"line\": {\"colorbar\": {\"outlinewidth\": 0, \"ticks\": \"\"}}, \"marker\": {\"colorbar\": {\"outlinewidth\": 0, \"ticks\": \"\"}}, \"type\": \"scatter3d\"}], \"scattercarpet\": [{\"marker\": {\"colorbar\": {\"outlinewidth\": 0, \"ticks\": \"\"}}, \"type\": \"scattercarpet\"}], \"scattergeo\": [{\"marker\": {\"colorbar\": {\"outlinewidth\": 0, \"ticks\": \"\"}}, \"type\": \"scattergeo\"}], \"scattergl\": [{\"marker\": {\"colorbar\": {\"outlinewidth\": 0, \"ticks\": \"\"}}, \"type\": \"scattergl\"}], \"scattermapbox\": [{\"marker\": {\"colorbar\": {\"outlinewidth\": 0, \"ticks\": \"\"}}, \"type\": \"scattermapbox\"}], \"scatterpolar\": [{\"marker\": {\"colorbar\": {\"outlinewidth\": 0, \"ticks\": \"\"}}, \"type\": \"scatterpolar\"}], \"scatterpolargl\": [{\"marker\": {\"colorbar\": {\"outlinewidth\": 0, \"ticks\": \"\"}}, \"type\": \"scatterpolargl\"}], \"scatterternary\": [{\"marker\": {\"colorbar\": {\"outlinewidth\": 0, \"ticks\": \"\"}}, \"type\": \"scatterternary\"}], \"surface\": [{\"colorbar\": {\"outlinewidth\": 0, \"ticks\": \"\"}, \"colorscale\": [[0.0, \"#0d0887\"], [0.1111111111111111, \"#46039f\"], [0.2222222222222222, \"#7201a8\"], [0.3333333333333333, \"#9c179e\"], [0.4444444444444444, \"#bd3786\"], [0.5555555555555556, \"#d8576b\"], [0.6666666666666666, \"#ed7953\"], [0.7777777777777778, \"#fb9f3a\"], [0.8888888888888888, \"#fdca26\"], [1.0, \"#f0f921\"]], \"type\": \"surface\"}], \"table\": [{\"cells\": {\"fill\": {\"color\": \"#EBF0F8\"}, \"line\": {\"color\": \"white\"}}, \"header\": {\"fill\": {\"color\": \"#C8D4E3\"}, \"line\": {\"color\": \"white\"}}, \"type\": \"table\"}]}, \"layout\": {\"annotationdefaults\": {\"arrowcolor\": \"#2a3f5f\", \"arrowhead\": 0, \"arrowwidth\": 1}, \"coloraxis\": {\"colorbar\": {\"outlinewidth\": 0, \"ticks\": \"\"}}, \"colorscale\": {\"diverging\": [[0, \"#8e0152\"], [0.1, \"#c51b7d\"], [0.2, \"#de77ae\"], [0.3, \"#f1b6da\"], [0.4, \"#fde0ef\"], [0.5, \"#f7f7f7\"], [0.6, \"#e6f5d0\"], [0.7, \"#b8e186\"], [0.8, \"#7fbc41\"], [0.9, \"#4d9221\"], [1, \"#276419\"]], \"sequential\": [[0.0, \"#0d0887\"], [0.1111111111111111, \"#46039f\"], [0.2222222222222222, \"#7201a8\"], [0.3333333333333333, \"#9c179e\"], [0.4444444444444444, \"#bd3786\"], [0.5555555555555556, \"#d8576b\"], [0.6666666666666666, \"#ed7953\"], [0.7777777777777778, \"#fb9f3a\"], [0.8888888888888888, \"#fdca26\"], [1.0, \"#f0f921\"]], \"sequentialminus\": [[0.0, \"#0d0887\"], [0.1111111111111111, \"#46039f\"], [0.2222222222222222, \"#7201a8\"], [0.3333333333333333, \"#9c179e\"], [0.4444444444444444, \"#bd3786\"], [0.5555555555555556, \"#d8576b\"], [0.6666666666666666, \"#ed7953\"], [0.7777777777777778, \"#fb9f3a\"], [0.8888888888888888, \"#fdca26\"], [1.0, \"#f0f921\"]]}, \"colorway\": [\"#636efa\", \"#EF553B\", \"#00cc96\", \"#ab63fa\", \"#FFA15A\", \"#19d3f3\", \"#FF6692\", \"#B6E880\", \"#FF97FF\", \"#FECB52\"], \"font\": {\"color\": \"#2a3f5f\"}, \"geo\": {\"bgcolor\": \"white\", \"lakecolor\": \"white\", \"landcolor\": \"#E5ECF6\", \"showlakes\": true, \"showland\": true, \"subunitcolor\": \"white\"}, \"hoverlabel\": {\"align\": \"left\"}, \"hovermode\": \"closest\", \"mapbox\": {\"style\": \"light\"}, \"paper_bgcolor\": \"white\", \"plot_bgcolor\": \"#E5ECF6\", \"polar\": {\"angularaxis\": {\"gridcolor\": \"white\", \"linecolor\": \"white\", \"ticks\": \"\"}, \"bgcolor\": \"#E5ECF6\", \"radialaxis\": {\"gridcolor\": \"white\", \"linecolor\": \"white\", \"ticks\": \"\"}}, \"scene\": {\"xaxis\": {\"backgroundcolor\": \"#E5ECF6\", \"gridcolor\": \"white\", \"gridwidth\": 2, \"linecolor\": \"white\", \"showbackground\": true, \"ticks\": \"\", \"zerolinecolor\": \"white\"}, \"yaxis\": {\"backgroundcolor\": \"#E5ECF6\", \"gridcolor\": \"white\", \"gridwidth\": 2, \"linecolor\": \"white\", \"showbackground\": true, \"ticks\": \"\", \"zerolinecolor\": \"white\"}, \"zaxis\": {\"backgroundcolor\": \"#E5ECF6\", \"gridcolor\": \"white\", \"gridwidth\": 2, \"linecolor\": \"white\", \"showbackground\": true, \"ticks\": \"\", \"zerolinecolor\": \"white\"}}, \"shapedefaults\": {\"line\": {\"color\": \"#2a3f5f\"}}, \"ternary\": {\"aaxis\": {\"gridcolor\": \"white\", \"linecolor\": \"white\", \"ticks\": \"\"}, \"baxis\": {\"gridcolor\": \"white\", \"linecolor\": \"white\", \"ticks\": \"\"}, \"bgcolor\": \"#E5ECF6\", \"caxis\": {\"gridcolor\": \"white\", \"linecolor\": \"white\", \"ticks\": \"\"}}, \"title\": {\"x\": 0.05}, \"xaxis\": {\"automargin\": true, \"gridcolor\": \"white\", \"linecolor\": \"white\", \"ticks\": \"\", \"title\": {\"standoff\": 15}, \"zerolinecolor\": \"white\", \"zerolinewidth\": 2}, \"yaxis\": {\"automargin\": true, \"gridcolor\": \"white\", \"linecolor\": \"white\", \"ticks\": \"\", \"title\": {\"standoff\": 15}, \"zerolinecolor\": \"white\", \"zerolinewidth\": 2}}}, \"updatemenus\": [{\"buttons\": [{\"args\": [null, {\"frame\": {\"duration\": 500, \"redraw\": true}, \"fromcurrent\": true, \"mode\": \"immediate\", \"transition\": {\"duration\": 500, \"easing\": \"linear\"}}], \"label\": \"&#9654;\", \"method\": \"animate\"}, {\"args\": [[null], {\"frame\": {\"duration\": 0, \"redraw\": true}, \"fromcurrent\": true, \"mode\": \"immediate\", \"transition\": {\"duration\": 0, \"easing\": \"linear\"}}], \"label\": \"&#9724;\", \"method\": \"animate\"}], \"direction\": \"left\", \"pad\": {\"r\": 10, \"t\": 70}, \"showactive\": false, \"type\": \"buttons\", \"x\": 0.1, \"xanchor\": \"right\", \"y\": 0, \"yanchor\": \"top\"}]},\n",
       "                        {\"responsive\": true}\n",
       "                    ).then(function(){\n",
       "                            Plotly.addFrames('a2b655c7-ebe9-4f4a-bf47-16870e924434', [{\"data\": [{\"coloraxis\": \"coloraxis\", \"featureidkey\": \"properties.name\", \"geojson\": \"https://raw.githubusercontent.com/codeforamerica/click_that_hood/master/public/data/turkey.geojson\", \"hovertemplate\": \"Date=1/4/20<br>City=%{location}<br>Cases=%{z}<extra></extra>\", \"ids\": [\"Adana\", \"Ad\\u0131yaman\", \"Afyon\", \"Aksaray\", \"Amasya\", \"Ankara\", \"Antalya\", \"Ardahan\", \"Artvin\", \"Ayd\\u0131n\", \"A\\u011fr\\u0131\", \"Bal\\u0131kesir\", \"Bart\\u0131n\", \"Batman\", \"Bayburt\", \"Bilecik\", \"Bing\\u00f6l\", \"Bitlis\", \"Bolu\", \"Burdur\", \"Bursa\", \"Denizli\", \"Diyarbak\\u0131r\", \"D\\u00fczce\", \"Edirne\", \"Elaz\\u0131\\u011f\", \"Erzincan\", \"Erzurum\", \"Eski\\u015fehir\", \"Gaziantep\", \"Giresun\", \"G\\u00fcm\\u00fc\\u015fhane\", \"Hakkari\", \"Hatay\", \"Isparta\", \"I\\u011fd\\u0131r\", \"K. Mara\\u015f\", \"Karab\\u00fck\", \"Karaman\", \"Kars\", \"Kastamonu\", \"Kayseri\", \"Kilis\", \"Kocaeli\", \"Konya\", \"K\\u00fctahya\", \"K\\u0131rklareli\", \"K\\u0131r\\u0131kkale\", \"K\\u0131r\\u015fehir\", \"Malatya\", \"Manisa\", \"Mardin\", \"Mersin\", \"Mu\\u011fla\", \"Mu\\u015f\", \"Nev\\u015fehir\", \"Ni\\u011fde\", \"Ordu\", \"Osmaniye\", \"Rize\", \"Sakarya\", \"Samsun\", \"Siirt\", \"Sinop\", \"Sivas\", \"Tekirda\\u011f\", \"Tokat\", \"Trabzon\", \"Tunceli\", \"U\\u015fak\", \"Van\", \"Yalova\", \"Yozgat\", \"Zonguldak\", \"\\u00c7anakkale\", \"\\u00c7ank\\u0131r\\u0131\", \"\\u00c7orum\", \"\\u0130stanbul\", \"\\u0130zmir\", \"\\u015eanl\\u0131urfa\", \"\\u015e\\u0131rnak\"], \"locations\": [\"Adana\", \"Ad\\u0131yaman\", \"Afyon\", \"Aksaray\", \"Amasya\", \"Ankara\", \"Antalya\", \"Ardahan\", \"Artvin\", \"Ayd\\u0131n\", \"A\\u011fr\\u0131\", \"Bal\\u0131kesir\", \"Bart\\u0131n\", \"Batman\", \"Bayburt\", \"Bilecik\", \"Bing\\u00f6l\", \"Bitlis\", \"Bolu\", \"Burdur\", \"Bursa\", \"Denizli\", \"Diyarbak\\u0131r\", \"D\\u00fczce\", \"Edirne\", \"Elaz\\u0131\\u011f\", \"Erzincan\", \"Erzurum\", \"Eski\\u015fehir\", \"Gaziantep\", \"Giresun\", \"G\\u00fcm\\u00fc\\u015fhane\", \"Hakkari\", \"Hatay\", \"Isparta\", \"I\\u011fd\\u0131r\", \"K. Mara\\u015f\", \"Karab\\u00fck\", \"Karaman\", \"Kars\", \"Kastamonu\", \"Kayseri\", \"Kilis\", \"Kocaeli\", \"Konya\", \"K\\u00fctahya\", \"K\\u0131rklareli\", \"K\\u0131r\\u0131kkale\", \"K\\u0131r\\u015fehir\", \"Malatya\", \"Manisa\", \"Mardin\", \"Mersin\", \"Mu\\u011fla\", \"Mu\\u015f\", \"Nev\\u015fehir\", \"Ni\\u011fde\", \"Ordu\", \"Osmaniye\", \"Rize\", \"Sakarya\", \"Samsun\", \"Siirt\", \"Sinop\", \"Sivas\", \"Tekirda\\u011f\", \"Tokat\", \"Trabzon\", \"Tunceli\", \"U\\u015fak\", \"Van\", \"Yalova\", \"Yozgat\", \"Zonguldak\", \"\\u00c7anakkale\", \"\\u00c7ank\\u0131r\\u0131\", \"\\u00c7orum\", \"\\u0130stanbul\", \"\\u0130zmir\", \"\\u015eanl\\u0131urfa\", \"\\u015e\\u0131rnak\"], \"name\": \"\", \"subplot\": \"mapbox\", \"z\": [197, 26, 11, 4, 24, 712, 95, 5, 15, 12, 29, 87, 8, 7, 18, 5, 8, 22, 6, 2, 135, 81, 26, 21, 89, 9, 17, 86, 83, 37, 61, 12, 2, 22, 268, 25, 15, 10, 12, 25, 13, 109, 16, 410, 584, 5, 35, 22, 4, 49, 65, 34, 9, 43, 11, 18, 3, 73, 31, 88, 207, 112, 32, 31, 67, 101, 80, 74, 6, 38, 26, 46, 13, 112, 24, 13, 29, 8852, 853, 11, 3], \"type\": \"choroplethmapbox\"}], \"name\": \"1/4/20\"}, {\"data\": [{\"coloraxis\": \"coloraxis\", \"featureidkey\": \"properties.name\", \"geojson\": \"https://raw.githubusercontent.com/codeforamerica/click_that_hood/master/public/data/turkey.geojson\", \"hovertemplate\": \"Date=3/4/20<br>City=%{location}<br>Cases=%{z}<extra></extra>\", \"ids\": [\"Adana\", \"Ad\\u0131yaman\", \"Afyon\", \"Aksaray\", \"Amasya\", \"Ankara\", \"Antalya\", \"Ardahan\", \"Artvin\", \"Ayd\\u0131n\", \"A\\u011fr\\u0131\", \"Bal\\u0131kesir\", \"Bart\\u0131n\", \"Batman\", \"Bayburt\", \"Bilecik\", \"Bing\\u00f6l\", \"Bitlis\", \"Bolu\", \"Burdur\", \"Bursa\", \"Denizli\", \"Diyarbak\\u0131r\", \"D\\u00fczce\", \"Edirne\", \"Elaz\\u0131\\u011f\", \"Erzincan\", \"Erzurum\", \"Eski\\u015fehir\", \"Gaziantep\", \"Giresun\", \"G\\u00fcm\\u00fc\\u015fhane\", \"Hakkari\", \"Hatay\", \"Isparta\", \"I\\u011fd\\u0131r\", \"K. Mara\\u015f\", \"Karab\\u00fck\", \"Karaman\", \"Kars\", \"Kastamonu\", \"Kayseri\", \"Kilis\", \"Kocaeli\", \"Konya\", \"K\\u00fctahya\", \"K\\u0131rklareli\", \"K\\u0131r\\u0131kkale\", \"K\\u0131r\\u015fehir\", \"Malatya\", \"Manisa\", \"Mardin\", \"Mersin\", \"Mu\\u011fla\", \"Mu\\u015f\", \"Nev\\u015fehir\", \"Ni\\u011fde\", \"Ordu\", \"Osmaniye\", \"Rize\", \"Sakarya\", \"Samsun\", \"Siirt\", \"Sinop\", \"Sivas\", \"Tekirda\\u011f\", \"Tokat\", \"Trabzon\", \"Tunceli\", \"U\\u015fak\", \"Van\", \"Yalova\", \"Yozgat\", \"Zonguldak\", \"\\u00c7anakkale\", \"\\u00c7ank\\u0131r\\u0131\", \"\\u00c7orum\", \"\\u0130stanbul\", \"\\u0130zmir\", \"\\u015eanl\\u0131urfa\", \"\\u015e\\u0131rnak\"], \"locations\": [\"Adana\", \"Ad\\u0131yaman\", \"Afyon\", \"Aksaray\", \"Amasya\", \"Ankara\", \"Antalya\", \"Ardahan\", \"Artvin\", \"Ayd\\u0131n\", \"A\\u011fr\\u0131\", \"Bal\\u0131kesir\", \"Bart\\u0131n\", \"Batman\", \"Bayburt\", \"Bilecik\", \"Bing\\u00f6l\", \"Bitlis\", \"Bolu\", \"Burdur\", \"Bursa\", \"Denizli\", \"Diyarbak\\u0131r\", \"D\\u00fczce\", \"Edirne\", \"Elaz\\u0131\\u011f\", \"Erzincan\", \"Erzurum\", \"Eski\\u015fehir\", \"Gaziantep\", \"Giresun\", \"G\\u00fcm\\u00fc\\u015fhane\", \"Hakkari\", \"Hatay\", \"Isparta\", \"I\\u011fd\\u0131r\", \"K. Mara\\u015f\", \"Karab\\u00fck\", \"Karaman\", \"Kars\", \"Kastamonu\", \"Kayseri\", \"Kilis\", \"Kocaeli\", \"Konya\", \"K\\u00fctahya\", \"K\\u0131rklareli\", \"K\\u0131r\\u0131kkale\", \"K\\u0131r\\u015fehir\", \"Malatya\", \"Manisa\", \"Mardin\", \"Mersin\", \"Mu\\u011fla\", \"Mu\\u015f\", \"Nev\\u015fehir\", \"Ni\\u011fde\", \"Ordu\", \"Osmaniye\", \"Rize\", \"Sakarya\", \"Samsun\", \"Siirt\", \"Sinop\", \"Sivas\", \"Tekirda\\u011f\", \"Tokat\", \"Trabzon\", \"Tunceli\", \"U\\u015fak\", \"Van\", \"Yalova\", \"Yozgat\", \"Zonguldak\", \"\\u00c7anakkale\", \"\\u00c7ank\\u0131r\\u0131\", \"\\u00c7orum\", \"\\u0130stanbul\", \"\\u0130zmir\", \"\\u015eanl\\u0131urfa\", \"\\u015e\\u0131rnak\"], \"name\": \"\", \"subplot\": \"mapbox\", \"z\": [241, 32, 18, 5, 38, 860, 102, 5, 20, 20, 31, 106, 9, 9, 23, 16, 10, 22, 19, 3, 259, 86, 46, 32, 91, 12, 15, 79, 118, 49, 73, 12, 2, 32, 289, 26, 28, 20, 14, 18, 26, 130, 17, 500, 601, 5, 49, 23, 7, 66, 100, 51, 17, 46, 14, 27, 12, 88, 47, 101, 337, 167, 44, 35, 80, 121, 90, 87, 6, 40, 24, 64, 15, 197, 30, 25, 35, 12231, 1105, 18, 9], \"type\": \"choroplethmapbox\"}], \"name\": \"3/4/20\"}]);\n",
       "                        }).then(function(){\n",
       "                            \n",
       "var gd = document.getElementById('a2b655c7-ebe9-4f4a-bf47-16870e924434');\n",
       "var x = new MutationObserver(function (mutations, observer) {{\n",
       "        var display = window.getComputedStyle(gd).display;\n",
       "        if (!display || display === 'none') {{\n",
       "            console.log([gd, 'removed!']);\n",
       "            Plotly.purge(gd);\n",
       "            observer.disconnect();\n",
       "        }}\n",
       "}});\n",
       "\n",
       "// Listen for the removal of the full notebook cells\n",
       "var notebookContainer = gd.closest('#notebook-container');\n",
       "if (notebookContainer) {{\n",
       "    x.observe(notebookContainer, {childList: true});\n",
       "}}\n",
       "\n",
       "// Listen for the clearing of the current output cell\n",
       "var outputEl = gd.closest('.output');\n",
       "if (outputEl) {{\n",
       "    x.observe(outputEl, {childList: true});\n",
       "}}\n",
       "\n",
       "                        })\n",
       "                };\n",
       "                });\n",
       "            </script>\n",
       "        </div>"
      ]
     },
     "metadata": {},
     "output_type": "display_data"
    }
   ],
   "source": [
    "import pandas as pd\n",
    "import folium\n",
    "import numpy as np \n",
    "import branca\n",
    "import pandas as pd \n",
    "import plotly as py\n",
    "import plotly.express as px\n",
    "import plotly.graph_objects as go\n",
    "from plotly.subplots import make_subplots\n",
    "from plotly.offline import download_plotlyjs, init_notebook_mode, plot, iplot\n",
    "init_notebook_mode(connected=True)\n",
    "\n",
    "url = 'https://raw.githubusercontent.com/GoktugOcal/covid19/master/data/turkeyConfirmedCasesbyCities.csv'\n",
    "state_geo = 'https://raw.githubusercontent.com/codeforamerica/click_that_hood/master/public/data/turkey.geojson'\n",
    "\n",
    "df = pd.read_csv(url, error_bad_lines=False)\n",
    "df = df.rename(columns={\"Unnamed: 0\": \"City\"})\n",
    "df = df.replace('Afyonkarahisar', 'Afyon')\n",
    "df = df.replace('Kahramanmaraş', 'K. Maraş')\n",
    "\n",
    "\n",
    "appended_data = []\n",
    "\n",
    "for col in df.columns:\n",
    "    if (col != 'City' and col != 'population'):\n",
    "        temp_df = df[['City','{}'.format(col),'population']]\n",
    "        temp_df['Date'] = col\n",
    "        temp_df = temp_df.rename(columns={col:'Cases'})\n",
    "        appended_data.append(temp_df)\n",
    "        \n",
    "df = pd.concat(appended_data)\n",
    "\n",
    "fig = px.choropleth_mapbox(df, geojson=state_geo, color=\"Cases\",\n",
    "                           locations=\"City\", featureidkey=\"properties.name\",\n",
    "                           animation_frame='Date', animation_group='City',\n",
    "                           center={\"lat\": 39, \"lon\": 34.7073},\n",
    "                           mapbox_style=\"carto-positron\", zoom=4.9)\n",
    "fig.update_layout(margin={\"r\":0,\"t\":0,\"l\":0,\"b\":0})\n",
    "\n",
    "fig.show()"
   ]
  }
 ],
 "metadata": {
  "kernelspec": {
   "display_name": "Python 3",
   "language": "python",
   "name": "python3"
  },
  "language_info": {
   "codemirror_mode": {
    "name": "ipython",
    "version": 3
   },
   "file_extension": ".py",
   "mimetype": "text/x-python",
   "name": "python",
   "nbconvert_exporter": "python",
   "pygments_lexer": "ipython3",
   "version": "3.7.4"
  }
 },
 "nbformat": 4,
 "nbformat_minor": 2
}
